{
 "cells": [
  {
   "cell_type": "markdown",
   "metadata": {},
   "source": [
    "# Medical Insurance Cost Prediction\n",
    "\n",
    "We have a dataset that contains several informations for an individual and based on them we are going to predict the cost of the medical insurance cost. \n",
    "\n",
    "The dataset has informations for:\n",
    "\n",
    "-Age(age) of the individual\n",
    "\n",
    "-Gender(sex) of the individual (female/male)\n",
    "\n",
    "-Body Mass Index(bmi) of the individual (ideally 18.5 to 24.9)\n",
    "\n",
    "-Smoking habit(smoker) of the individual (yes/no)\n",
    "\n",
    "-Region(region) from where the individual is from (southwest, northwest, southeast, northeast) in the US\n",
    "\n",
    "-Individual medical costs(charges) billed by health insurance\n"
   ]
  },
  {
   "cell_type": "code",
   "execution_count": 15,
   "metadata": {},
   "outputs": [],
   "source": [
    "# Importing all the modules I will need for this project \n",
    "import pandas as pd\n",
    "import numpy as np\n"
   ]
  },
  {
   "cell_type": "markdown",
   "metadata": {},
   "source": [
    "# Data Analysis"
   ]
  },
  {
   "cell_type": "code",
   "execution_count": 5,
   "metadata": {},
   "outputs": [
    {
     "name": "stdout",
     "output_type": "stream",
     "text": [
      "   age     sex     bmi  children smoker     region      charges\n",
      "0   19  female  27.900         0    yes  southwest  16884.92400\n",
      "1   18    male  33.770         1     no  southeast   1725.55230\n",
      "2   28    male  33.000         3     no  southeast   4449.46200\n",
      "3   33    male  22.705         0     no  northwest  21984.47061\n",
      "4   32    male  28.880         0     no  northwest   3866.85520\n"
     ]
    }
   ],
   "source": [
    "# Looking at the data so we can see with what we are working with\n",
    "df = pd.read_csv('insurance.csv')\n",
    "print(df.head(5))"
   ]
  },
  {
   "cell_type": "code",
   "execution_count": 6,
   "metadata": {},
   "outputs": [
    {
     "data": {
      "text/plain": [
       "(1338, 7)"
      ]
     },
     "execution_count": 6,
     "metadata": {},
     "output_type": "execute_result"
    }
   ],
   "source": [
    "# The number of rows and columns in the dataframe\n",
    "df.shape"
   ]
  },
  {
   "cell_type": "code",
   "execution_count": 7,
   "metadata": {},
   "outputs": [
    {
     "data": {
      "text/plain": [
       "array(['southwest', 'southeast', 'northwest', 'northeast'], dtype=object)"
      ]
     },
     "execution_count": 7,
     "metadata": {},
     "output_type": "execute_result"
    }
   ],
   "source": [
    "# Transforming the region into a numerical value so later we can train the model\n",
    "df['region'].unique()"
   ]
  },
  {
   "cell_type": "code",
   "execution_count": 8,
   "metadata": {},
   "outputs": [
    {
     "data": {
      "text/html": [
       "<div>\n",
       "<style scoped>\n",
       "    .dataframe tbody tr th:only-of-type {\n",
       "        vertical-align: middle;\n",
       "    }\n",
       "\n",
       "    .dataframe tbody tr th {\n",
       "        vertical-align: top;\n",
       "    }\n",
       "\n",
       "    .dataframe thead th {\n",
       "        text-align: right;\n",
       "    }\n",
       "</style>\n",
       "<table border=\"1\" class=\"dataframe\">\n",
       "  <thead>\n",
       "    <tr style=\"text-align: right;\">\n",
       "      <th></th>\n",
       "      <th>northwest</th>\n",
       "      <th>southeast</th>\n",
       "      <th>southwest</th>\n",
       "    </tr>\n",
       "  </thead>\n",
       "  <tbody>\n",
       "    <tr>\n",
       "      <th>0</th>\n",
       "      <td>0</td>\n",
       "      <td>0</td>\n",
       "      <td>1</td>\n",
       "    </tr>\n",
       "    <tr>\n",
       "      <th>1</th>\n",
       "      <td>0</td>\n",
       "      <td>1</td>\n",
       "      <td>0</td>\n",
       "    </tr>\n",
       "    <tr>\n",
       "      <th>2</th>\n",
       "      <td>0</td>\n",
       "      <td>1</td>\n",
       "      <td>0</td>\n",
       "    </tr>\n",
       "    <tr>\n",
       "      <th>3</th>\n",
       "      <td>1</td>\n",
       "      <td>0</td>\n",
       "      <td>0</td>\n",
       "    </tr>\n",
       "    <tr>\n",
       "      <th>4</th>\n",
       "      <td>1</td>\n",
       "      <td>0</td>\n",
       "      <td>0</td>\n",
       "    </tr>\n",
       "  </tbody>\n",
       "</table>\n",
       "</div>"
      ],
      "text/plain": [
       "   northwest  southeast  southwest\n",
       "0          0          0          1\n",
       "1          0          1          0\n",
       "2          0          1          0\n",
       "3          1          0          0\n",
       "4          1          0          0"
      ]
     },
     "execution_count": 8,
     "metadata": {},
     "output_type": "execute_result"
    }
   ],
   "source": [
    "# Creating a new dataframe with the region as a numerical value\n",
    "region_numbers = pd.get_dummies(df['region'], drop_first=True)\n",
    "region_numbers.head(5)"
   ]
  },
  {
   "cell_type": "code",
   "execution_count": 9,
   "metadata": {},
   "outputs": [
    {
     "data": {
      "text/html": [
       "<div>\n",
       "<style scoped>\n",
       "    .dataframe tbody tr th:only-of-type {\n",
       "        vertical-align: middle;\n",
       "    }\n",
       "\n",
       "    .dataframe tbody tr th {\n",
       "        vertical-align: top;\n",
       "    }\n",
       "\n",
       "    .dataframe thead th {\n",
       "        text-align: right;\n",
       "    }\n",
       "</style>\n",
       "<table border=\"1\" class=\"dataframe\">\n",
       "  <thead>\n",
       "    <tr style=\"text-align: right;\">\n",
       "      <th></th>\n",
       "      <th>age</th>\n",
       "      <th>sex</th>\n",
       "      <th>bmi</th>\n",
       "      <th>children</th>\n",
       "      <th>smoker</th>\n",
       "      <th>charges</th>\n",
       "      <th>northwest</th>\n",
       "      <th>southeast</th>\n",
       "      <th>southwest</th>\n",
       "    </tr>\n",
       "  </thead>\n",
       "  <tbody>\n",
       "    <tr>\n",
       "      <th>0</th>\n",
       "      <td>19</td>\n",
       "      <td>female</td>\n",
       "      <td>27.900</td>\n",
       "      <td>0</td>\n",
       "      <td>yes</td>\n",
       "      <td>16884.92400</td>\n",
       "      <td>0</td>\n",
       "      <td>0</td>\n",
       "      <td>1</td>\n",
       "    </tr>\n",
       "    <tr>\n",
       "      <th>1</th>\n",
       "      <td>18</td>\n",
       "      <td>male</td>\n",
       "      <td>33.770</td>\n",
       "      <td>1</td>\n",
       "      <td>no</td>\n",
       "      <td>1725.55230</td>\n",
       "      <td>0</td>\n",
       "      <td>1</td>\n",
       "      <td>0</td>\n",
       "    </tr>\n",
       "    <tr>\n",
       "      <th>2</th>\n",
       "      <td>28</td>\n",
       "      <td>male</td>\n",
       "      <td>33.000</td>\n",
       "      <td>3</td>\n",
       "      <td>no</td>\n",
       "      <td>4449.46200</td>\n",
       "      <td>0</td>\n",
       "      <td>1</td>\n",
       "      <td>0</td>\n",
       "    </tr>\n",
       "    <tr>\n",
       "      <th>3</th>\n",
       "      <td>33</td>\n",
       "      <td>male</td>\n",
       "      <td>22.705</td>\n",
       "      <td>0</td>\n",
       "      <td>no</td>\n",
       "      <td>21984.47061</td>\n",
       "      <td>1</td>\n",
       "      <td>0</td>\n",
       "      <td>0</td>\n",
       "    </tr>\n",
       "    <tr>\n",
       "      <th>4</th>\n",
       "      <td>32</td>\n",
       "      <td>male</td>\n",
       "      <td>28.880</td>\n",
       "      <td>0</td>\n",
       "      <td>no</td>\n",
       "      <td>3866.85520</td>\n",
       "      <td>1</td>\n",
       "      <td>0</td>\n",
       "      <td>0</td>\n",
       "    </tr>\n",
       "  </tbody>\n",
       "</table>\n",
       "</div>"
      ],
      "text/plain": [
       "   age     sex     bmi  children smoker      charges  northwest  southeast  \\\n",
       "0   19  female  27.900         0    yes  16884.92400          0          0   \n",
       "1   18    male  33.770         1     no   1725.55230          0          1   \n",
       "2   28    male  33.000         3     no   4449.46200          0          1   \n",
       "3   33    male  22.705         0     no  21984.47061          1          0   \n",
       "4   32    male  28.880         0     no   3866.85520          1          0   \n",
       "\n",
       "   southwest  \n",
       "0          1  \n",
       "1          0  \n",
       "2          0  \n",
       "3          0  \n",
       "4          0  "
      ]
     },
     "execution_count": 9,
     "metadata": {},
     "output_type": "execute_result"
    }
   ],
   "source": [
    "# Concatenating the region_numbers dataframe with the original dataframe and plus removing the region column\n",
    "df_region = pd.concat([df, region_numbers], axis=1)\n",
    "df_region.drop(['region'], axis=1, inplace=True)\n",
    "df_region.head(5)"
   ]
  },
  {
   "cell_type": "code",
   "execution_count": 11,
   "metadata": {},
   "outputs": [
    {
     "data": {
      "text/plain": [
       "age          0\n",
       "sex          0\n",
       "bmi          0\n",
       "children     0\n",
       "smoker       0\n",
       "charges      0\n",
       "northwest    0\n",
       "southeast    0\n",
       "southwest    0\n",
       "dtype: int64"
      ]
     },
     "execution_count": 11,
     "metadata": {},
     "output_type": "execute_result"
    }
   ],
   "source": [
    "# Looking for null values in the dataframe and if we have we need to drop them\n",
    "df_region.isnull().sum()"
   ]
  },
  {
   "cell_type": "code",
   "execution_count": 12,
   "metadata": {},
   "outputs": [
    {
     "name": "stdout",
     "output_type": "stream",
     "text": [
      "           bmi  children       charges  northwest  southeast  southwest\n",
      "age                                                                    \n",
      "18   31.326159  0.449275   7086.217556   0.000000   0.536232   0.000000\n",
      "19   28.596912  0.426471   9747.909335   0.500000   0.044118   0.455882\n",
      "20   30.632759  0.862069  10159.697736   0.241379   0.275862   0.275862\n",
      "21   28.185714  0.785714   4730.464330   0.250000   0.250000   0.250000\n",
      "22   31.087679  0.714286  10012.932802   0.250000   0.285714   0.214286\n",
      "23   31.454464  1.000000  12419.820040   0.250000   0.250000   0.250000\n",
      "24   29.142679  0.464286  10648.015962   0.250000   0.250000   0.250000\n",
      "25   29.693929  1.285714   9838.365311   0.250000   0.250000   0.250000\n",
      "26   29.428929  1.071429   6133.825309   0.250000   0.250000   0.250000\n",
      "27   29.333571  0.964286  12184.701721   0.214286   0.321429   0.214286\n",
      "28   29.482143  1.285714   9069.187564   0.214286   0.285714   0.250000\n",
      "29   29.383148  1.259259  10430.158727   0.259259   0.259259   0.222222\n",
      "30   30.557593  1.555556  12719.110358   0.222222   0.296296   0.259259\n",
      "31   29.918333  1.407407  10196.980573   0.259259   0.259259   0.222222\n",
      "32   31.597692  1.269231   9220.300291   0.269231   0.307692   0.230769\n",
      "33   31.163077  1.538462  12351.532987   0.230769   0.307692   0.269231\n",
      "34   30.274038  1.153846  11613.528121   0.230769   0.230769   0.269231\n",
      "35   31.394800  1.680000  11307.182031   0.240000   0.240000   0.280000\n",
      "36   29.374200  1.240000  12204.476138   0.240000   0.280000   0.200000\n",
      "37   31.216600  1.520000  18019.911877   0.280000   0.240000   0.240000\n",
      "38   28.996600  1.480000   8102.733674   0.240000   0.280000   0.240000\n",
      "39   29.910200  2.200000  11778.242945   0.240000   0.240000   0.280000\n",
      "40   30.139074  1.592593  11772.251310   0.259259   0.296296   0.185185\n",
      "41   31.506852  1.407407   9653.745650   0.259259   0.296296   0.222222\n",
      "42   30.328148  1.000000  13061.038669   0.222222   0.296296   0.259259\n",
      "43   30.204444  1.629630  19267.278653   0.185185   0.296296   0.259259\n",
      "44   30.844259  1.222222  15859.396587   0.259259   0.296296   0.222222\n",
      "45   29.778966  1.482759  14830.199856   0.241379   0.241379   0.275862\n",
      "46   31.340862  1.620690  14342.590639   0.241379   0.241379   0.241379\n",
      "47   30.664310  1.379310  17653.999593   0.206897   0.310345   0.241379\n",
      "48   31.925690  1.310345  14632.500445   0.241379   0.310345   0.206897\n",
      "49   30.313929  1.500000  12696.006264   0.250000   0.250000   0.250000\n",
      "50   31.132241  1.310345  15663.003301   0.241379   0.241379   0.275862\n",
      "51   31.727069  1.103448  15682.255867   0.206897   0.310345   0.241379\n",
      "52   32.936034  1.482759  18256.269719   0.275862   0.241379   0.241379\n",
      "53   30.360893  1.250000  16020.930755   0.250000   0.250000   0.250000\n",
      "54   31.234286  1.428571  18758.546475   0.250000   0.250000   0.250000\n",
      "55   31.950000  0.961538  16164.545488   0.230769   0.269231   0.269231\n",
      "56   31.600962  0.769231  15025.515837   0.230769   0.230769   0.269231\n",
      "57   30.844423  0.615385  16447.185250   0.269231   0.230769   0.230769\n",
      "58   32.718200  0.240000  13878.928112   0.280000   0.240000   0.240000\n",
      "59   30.572000  1.200000  18895.869532   0.200000   0.320000   0.240000\n",
      "60   30.332826  0.347826  21979.418507   0.217391   0.260870   0.260870\n",
      "61   32.548261  0.739130  22024.457609   0.260870   0.217391   0.260870\n",
      "62   32.342609  0.565217  19163.856573   0.260870   0.260870   0.217391\n",
      "63   31.923478  0.565217  19884.998461   0.260870   0.260870   0.260870\n",
      "64   32.976136  0.772727  23275.530837   0.227273   0.363636   0.227273\n"
     ]
    }
   ],
   "source": [
    "# Grouping the dataframe by the age column with mean\n",
    "df_age = df_region.groupby('age').mean()\n",
    "print(df_age)"
   ]
  },
  {
   "cell_type": "code",
   "execution_count": 13,
   "metadata": {},
   "outputs": [
    {
     "data": {
      "text/html": [
       "<div>\n",
       "<style scoped>\n",
       "    .dataframe tbody tr th:only-of-type {\n",
       "        vertical-align: middle;\n",
       "    }\n",
       "\n",
       "    .dataframe tbody tr th {\n",
       "        vertical-align: top;\n",
       "    }\n",
       "\n",
       "    .dataframe thead th {\n",
       "        text-align: right;\n",
       "    }\n",
       "</style>\n",
       "<table border=\"1\" class=\"dataframe\">\n",
       "  <thead>\n",
       "    <tr style=\"text-align: right;\">\n",
       "      <th></th>\n",
       "      <th>age</th>\n",
       "      <th>bmi</th>\n",
       "      <th>children</th>\n",
       "      <th>charges</th>\n",
       "    </tr>\n",
       "  </thead>\n",
       "  <tbody>\n",
       "    <tr>\n",
       "      <th>count</th>\n",
       "      <td>1338.000000</td>\n",
       "      <td>1338.000000</td>\n",
       "      <td>1338.000000</td>\n",
       "      <td>1338.000000</td>\n",
       "    </tr>\n",
       "    <tr>\n",
       "      <th>mean</th>\n",
       "      <td>39.207025</td>\n",
       "      <td>30.663397</td>\n",
       "      <td>1.094918</td>\n",
       "      <td>13270.422265</td>\n",
       "    </tr>\n",
       "    <tr>\n",
       "      <th>std</th>\n",
       "      <td>14.049960</td>\n",
       "      <td>6.098187</td>\n",
       "      <td>1.205493</td>\n",
       "      <td>12110.011237</td>\n",
       "    </tr>\n",
       "    <tr>\n",
       "      <th>min</th>\n",
       "      <td>18.000000</td>\n",
       "      <td>15.960000</td>\n",
       "      <td>0.000000</td>\n",
       "      <td>1121.873900</td>\n",
       "    </tr>\n",
       "    <tr>\n",
       "      <th>25%</th>\n",
       "      <td>27.000000</td>\n",
       "      <td>26.296250</td>\n",
       "      <td>0.000000</td>\n",
       "      <td>4740.287150</td>\n",
       "    </tr>\n",
       "    <tr>\n",
       "      <th>50%</th>\n",
       "      <td>39.000000</td>\n",
       "      <td>30.400000</td>\n",
       "      <td>1.000000</td>\n",
       "      <td>9382.033000</td>\n",
       "    </tr>\n",
       "    <tr>\n",
       "      <th>75%</th>\n",
       "      <td>51.000000</td>\n",
       "      <td>34.693750</td>\n",
       "      <td>2.000000</td>\n",
       "      <td>16639.912515</td>\n",
       "    </tr>\n",
       "    <tr>\n",
       "      <th>max</th>\n",
       "      <td>64.000000</td>\n",
       "      <td>53.130000</td>\n",
       "      <td>5.000000</td>\n",
       "      <td>63770.428010</td>\n",
       "    </tr>\n",
       "  </tbody>\n",
       "</table>\n",
       "</div>"
      ],
      "text/plain": [
       "               age          bmi     children       charges\n",
       "count  1338.000000  1338.000000  1338.000000   1338.000000\n",
       "mean     39.207025    30.663397     1.094918  13270.422265\n",
       "std      14.049960     6.098187     1.205493  12110.011237\n",
       "min      18.000000    15.960000     0.000000   1121.873900\n",
       "25%      27.000000    26.296250     0.000000   4740.287150\n",
       "50%      39.000000    30.400000     1.000000   9382.033000\n",
       "75%      51.000000    34.693750     2.000000  16639.912515\n",
       "max      64.000000    53.130000     5.000000  63770.428010"
      ]
     },
     "execution_count": 13,
     "metadata": {},
     "output_type": "execute_result"
    }
   ],
   "source": [
    "# Describing the dataframe to see the mean, std, max, etc.\n",
    "df.describe()"
   ]
  }
 ],
 "metadata": {
  "interpreter": {
   "hash": "952cc8b428fd4673442caf89ab6b80952bb5d794758188070dbfc8c497b3af78"
  },
  "kernelspec": {
   "display_name": "Python 3.9.7 64-bit ('base': conda)",
   "language": "python",
   "name": "python3"
  },
  "language_info": {
   "codemirror_mode": {
    "name": "ipython",
    "version": 3
   },
   "file_extension": ".py",
   "mimetype": "text/x-python",
   "name": "python",
   "nbconvert_exporter": "python",
   "pygments_lexer": "ipython3",
   "version": "3.9.7"
  },
  "orig_nbformat": 4
 },
 "nbformat": 4,
 "nbformat_minor": 2
}
